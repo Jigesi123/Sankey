{
 "cells": [
  {
   "cell_type": "code",
   "execution_count": 15,
   "id": "748af806",
   "metadata": {},
   "outputs": [
    {
     "name": "stdout",
     "output_type": "stream",
     "text": [
      "Collecting plotly\n",
      "  Downloading plotly-5.6.0-py2.py3-none-any.whl (27.7 MB)\n",
      "Collecting tenacity>=6.2.0Note: you may need to restart the kernel to use updated packages.\n",
      "\n",
      "  Downloading tenacity-8.0.1-py3-none-any.whl (24 kB)\n",
      "Requirement already satisfied: six in c:\\users\\dexzhan1\\anaconda3\\lib\\site-packages (from plotly) (1.15.0)\n",
      "Installing collected packages: tenacity, plotly\n",
      "Successfully installed plotly-5.6.0 tenacity-8.0.1\n"
     ]
    }
   ],
   "source": [
    "pip install plotly"
   ]
  },
  {
   "cell_type": "code",
   "execution_count": 16,
   "id": "aabb4697",
   "metadata": {},
   "outputs": [],
   "source": [
    "import pandas as pd \n",
    "import numpy as np\n",
    "import matplotlib.pyplot as plt\n",
    "from pyecharts.charts import Sankey\n",
    "from pyecharts import options as opts\n",
    "import plotly.graph_objects as go"
   ]
  },
  {
   "cell_type": "code",
   "execution_count": 5,
   "id": "f7a76da0",
   "metadata": {},
   "outputs": [],
   "source": [
    "df = pd.read_excel(\"Sankey.xlsx\")"
   ]
  },
  {
   "cell_type": "code",
   "execution_count": 6,
   "id": "8f90f6a3",
   "metadata": {
    "scrolled": true
   },
   "outputs": [
    {
     "data": {
      "text/html": [
       "<div>\n",
       "<style scoped>\n",
       "    .dataframe tbody tr th:only-of-type {\n",
       "        vertical-align: middle;\n",
       "    }\n",
       "\n",
       "    .dataframe tbody tr th {\n",
       "        vertical-align: top;\n",
       "    }\n",
       "\n",
       "    .dataframe thead th {\n",
       "        text-align: right;\n",
       "    }\n",
       "</style>\n",
       "<table border=\"1\" class=\"dataframe\">\n",
       "  <thead>\n",
       "    <tr style=\"text-align: right;\">\n",
       "      <th></th>\n",
       "      <th>Gruppe Herkunftsberuf</th>\n",
       "      <th>Gruppe Zielberuf</th>\n",
       "      <th>Anzahl</th>\n",
       "      <th>Förderwirkung</th>\n",
       "    </tr>\n",
       "  </thead>\n",
       "  <tbody>\n",
       "    <tr>\n",
       "      <th>0</th>\n",
       "      <td>AA</td>\n",
       "      <td>A</td>\n",
       "      <td>1000</td>\n",
       "      <td>0.01</td>\n",
       "    </tr>\n",
       "    <tr>\n",
       "      <th>1</th>\n",
       "      <td>AA</td>\n",
       "      <td>B</td>\n",
       "      <td>200</td>\n",
       "      <td>0.02</td>\n",
       "    </tr>\n",
       "    <tr>\n",
       "      <th>2</th>\n",
       "      <td>AA</td>\n",
       "      <td>C</td>\n",
       "      <td>600</td>\n",
       "      <td>0.03</td>\n",
       "    </tr>\n",
       "    <tr>\n",
       "      <th>3</th>\n",
       "      <td>AA</td>\n",
       "      <td>D</td>\n",
       "      <td>3000</td>\n",
       "      <td>0.04</td>\n",
       "    </tr>\n",
       "    <tr>\n",
       "      <th>4</th>\n",
       "      <td>AA</td>\n",
       "      <td>E</td>\n",
       "      <td>780</td>\n",
       "      <td>0.05</td>\n",
       "    </tr>\n",
       "  </tbody>\n",
       "</table>\n",
       "</div>"
      ],
      "text/plain": [
       "  Gruppe Herkunftsberuf Gruppe Zielberuf  Anzahl  Förderwirkung\n",
       "0                    AA                A    1000           0.01\n",
       "1                    AA                B     200           0.02\n",
       "2                    AA                C     600           0.03\n",
       "3                    AA                D    3000           0.04\n",
       "4                    AA                E     780           0.05"
      ]
     },
     "execution_count": 6,
     "metadata": {},
     "output_type": "execute_result"
    }
   ],
   "source": [
    "df.head(5)"
   ]
  },
  {
   "cell_type": "code",
   "execution_count": 7,
   "id": "2fc5c849",
   "metadata": {},
   "outputs": [
    {
     "data": {
      "text/plain": [
       "[{'name': 'AA'},\n",
       " {'name': 'BB'},\n",
       " {'name': 'A'},\n",
       " {'name': 'B'},\n",
       " {'name': 'C'},\n",
       " {'name': 'D'},\n",
       " {'name': 'E'},\n",
       " {'name': 'F'},\n",
       " {'name': 'G'},\n",
       " {'name': 'H'},\n",
       " {'name': 'I'},\n",
       " {'name': 'J'},\n",
       " {'name': 'K'}]"
      ]
     },
     "execution_count": 7,
     "metadata": {},
     "output_type": "execute_result"
    }
   ],
   "source": [
    "nodes = []\n",
    "for i in range(2):\n",
    "    values = df.iloc[:, i].unique()\n",
    "    for value in values:\n",
    "        dic = {}\n",
    "        dic['name'] = value\n",
    "        nodes.append(dic)\n",
    "        \n",
    "nodes        "
   ]
  },
  {
   "cell_type": "code",
   "execution_count": 8,
   "id": "4504ad9b",
   "metadata": {
    "scrolled": true
   },
   "outputs": [
    {
     "data": {
      "text/plain": [
       "[{'source': 'AA', 'target': 'A', 'value': 1000},\n",
       " {'source': 'AA', 'target': 'B', 'value': 200},\n",
       " {'source': 'AA', 'target': 'C', 'value': 600},\n",
       " {'source': 'AA', 'target': 'D', 'value': 3000},\n",
       " {'source': 'AA', 'target': 'E', 'value': 780},\n",
       " {'source': 'AA', 'target': 'F', 'value': 50},\n",
       " {'source': 'AA', 'target': 'G', 'value': 20},\n",
       " {'source': 'AA', 'target': 'H', 'value': 1200},\n",
       " {'source': 'AA', 'target': 'I', 'value': 1500},\n",
       " {'source': 'AA', 'target': 'J', 'value': 1800},\n",
       " {'source': 'AA', 'target': 'K', 'value': 2100},\n",
       " {'source': 'BB', 'target': 'A', 'value': 1000},\n",
       " {'source': 'BB', 'target': 'B', 'value': 200},\n",
       " {'source': 'BB', 'target': 'C', 'value': 600},\n",
       " {'source': 'BB', 'target': 'D', 'value': 3000},\n",
       " {'source': 'BB', 'target': 'E', 'value': 780},\n",
       " {'source': 'BB', 'target': 'F', 'value': 50},\n",
       " {'source': 'BB', 'target': 'G', 'value': 20},\n",
       " {'source': 'BB', 'target': 'H', 'value': 1200},\n",
       " {'source': 'BB', 'target': 'I', 'value': 1500},\n",
       " {'source': 'BB', 'target': 'J', 'value': 1800},\n",
       " {'source': 'BB', 'target': 'K', 'value': 2100}]"
      ]
     },
     "execution_count": 8,
     "metadata": {},
     "output_type": "execute_result"
    }
   ],
   "source": [
    "links = []\n",
    "for i in df.values:\n",
    "    dic = {}\n",
    "    dic['source'] = i[0]\n",
    "    dic['target'] = i[1]\n",
    "    dic['value'] = i[2]\n",
    "    links.append(dic)\n",
    "\n",
    "links    "
   ]
  },
  {
   "cell_type": "code",
   "execution_count": 18,
   "id": "901a1451",
   "metadata": {},
   "outputs": [
    {
     "data": {
      "text/plain": [
       "'C:\\\\Users\\\\DEXZHAN1\\\\Sankey_test.html'"
      ]
     },
     "execution_count": 18,
     "metadata": {},
     "output_type": "execute_result"
    }
   ],
   "source": [
    "fig = (\n",
    "    Sankey()\n",
    "    .add('',\n",
    "         nodes,\n",
    "         links,\n",
    "         linestyle_opt = opts.LineStyleOpts(opacity = 0.3, curve = 0.5, color = 'source'),\n",
    "         label_opts = opts.LabelOpts(position = 'right'),\n",
    "         node_gap = 30\n",
    "        )\n",
    ")\n",
    "\n",
    "fig.render('Sankey_test.html')"
   ]
  },
  {
   "cell_type": "code",
   "execution_count": null,
   "id": "f3d278d8",
   "metadata": {},
   "outputs": [],
   "source": [
    "fig.render('Sankey_test.html')"
   ]
  },
  {
   "cell_type": "code",
   "execution_count": null,
   "id": "a8b38858",
   "metadata": {},
   "outputs": [],
   "source": []
  }
 ],
 "metadata": {
  "kernelspec": {
   "display_name": "Python 3",
   "language": "python",
   "name": "python3"
  },
  "language_info": {
   "codemirror_mode": {
    "name": "ipython",
    "version": 3
   },
   "file_extension": ".py",
   "mimetype": "text/x-python",
   "name": "python",
   "nbconvert_exporter": "python",
   "pygments_lexer": "ipython3",
   "version": "3.8.8"
  }
 },
 "nbformat": 4,
 "nbformat_minor": 5
}
